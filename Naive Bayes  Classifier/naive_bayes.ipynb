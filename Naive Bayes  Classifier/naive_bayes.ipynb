{
  "nbformat": 4,
  "nbformat_minor": 0,
  "metadata": {
    "colab": {
      "name": "naive_bayes.ipynb",
      "provenance": []
    },
    "kernelspec": {
      "name": "python3",
      "display_name": "Python 3"
    },
    "language_info": {
      "name": "python"
    }
  },
  "cells": [
    {
      "cell_type": "code",
      "metadata": {
        "colab": {
          "base_uri": "https://localhost:8080/"
        },
        "id": "J7HVu1yv4j4F",
        "outputId": "f9c959c0-2f26-4a76-d6af-42cf97883c4d"
      },
      "source": [
        "import numpy as np # linear algebra\n",
        "import pandas as pd # data processing, CSV file I/O (e.g. pd.read_csv)\n",
        "from sklearn.model_selection import train_test_split\n",
        "from sklearn.naive_bayes import GaussianNB\n",
        "from sklearn import metrics\n",
        "\n",
        "df = pd.read_csv(\"/content/pima_indian.csv\")\n",
        "feature_col_names = ['num_preg', 'glucose_conc', 'diastolic_bp', 'thickness', 'insulin', 'bmi', 'diab_pred', 'age']\n",
        "predicted_class_names = ['diabetes']\n",
        "X = df[feature_col_names].values \n",
        "y = df[predicted_class_names].values\n",
        "print(df.head)\n",
        "xtrain,xtest,ytrain,ytest=train_test_split(X,y,test_size=0.33)\n",
        "print ('\\nThe total number of Training Data:',ytrain.shape)\n",
        "print ('The total number of Test Data:',ytest.shape)"
      ],
      "execution_count": 1,
      "outputs": [
        {
          "output_type": "stream",
          "text": [
            "<bound method NDFrame.head of      num_preg  glucose_conc  diastolic_bp  ...  diab_pred  age  diabetes\n",
            "0           6           148            72  ...      0.627   50         1\n",
            "1           1            85            66  ...      0.351   31         0\n",
            "2           8           183            64  ...      0.672   32         1\n",
            "3           1            89            66  ...      0.167   21         0\n",
            "4           0           137            40  ...      2.288   33         1\n",
            "..        ...           ...           ...  ...        ...  ...       ...\n",
            "763        10           101            76  ...      0.171   63         0\n",
            "764         2           122            70  ...      0.340   27         0\n",
            "765         5           121            72  ...      0.245   30         0\n",
            "766         1           126            60  ...      0.349   47         1\n",
            "767         1            93            70  ...      0.315   23         0\n",
            "\n",
            "[768 rows x 9 columns]>\n",
            "\n",
            "The total number of Training Data: (514, 1)\n",
            "The total number of Test Data: (254, 1)\n"
          ],
          "name": "stdout"
        }
      ]
    },
    {
      "cell_type": "code",
      "metadata": {
        "colab": {
          "base_uri": "https://localhost:8080/"
        },
        "id": "NiKBxXkI5xrL",
        "outputId": "ba7a0ecf-25e0-4ae4-fc10-76efa687b2b3"
      },
      "source": [
        "clf = GaussianNB().fit(xtrain,ytrain.ravel())\n",
        "predicted = clf.predict(xtest)\n",
        "predictTestData= clf.predict([[6,148,72,35,0,33.6,0.627,50]])\n",
        "print('\\nConfusion matrix')\n",
        "print(metrics.confusion_matrix(ytest,predicted))\n",
        "print('\\nAccuracy of the classifier:',metrics.accuracy_score(ytest,predicted))\n",
        "print('The value of Precision:', metrics.precision_score(ytest,predicted))\n",
        "print('The value of Recall:', metrics.recall_score(ytest,predicted))\n",
        "print(\"Predicted Value for individual Test Data:\", predictTestData)"
      ],
      "execution_count": 2,
      "outputs": [
        {
          "output_type": "stream",
          "text": [
            "\n",
            "Confusion matrix\n",
            "[[156  16]\n",
            " [ 35  47]]\n",
            "\n",
            "Accuracy of the classifier: 0.7992125984251969\n",
            "The value of Precision: 0.746031746031746\n",
            "The value of Recall: 0.573170731707317\n",
            "Predicted Value for individual Test Data: [1]\n"
          ],
          "name": "stdout"
        }
      ]
    }
  ]
}