{
  "nbformat": 4,
  "nbformat_minor": 0,
  "metadata": {
    "kernelspec": {
      "name": "python3",
      "display_name": "Python 3",
      "language": "python"
    },
    "language_info": {
      "name": "python",
      "version": "3.7.9",
      "mimetype": "text/x-python",
      "codemirror_mode": {
        "name": "ipython",
        "version": 3
      },
      "pygments_lexer": "ipython3",
      "nbconvert_exporter": "python",
      "file_extension": ".py"
    },
    "colab": {
      "name": "algo-candidate-elimination.ipynb",
      "provenance": []
    }
  },
  "cells": [
    {
      "cell_type": "code",
      "metadata": {
        "_uuid": "8f2839f25d086af736a60e9eeb907d3b93b6e0e5",
        "_cell_guid": "b1076dfc-b9ad-4769-8c92-a6c4dae69d19",
        "trusted": true,
        "id": "ADTGWY-Xm38-"
      },
      "source": [
        "import numpy as np\n",
        "import pandas as pd"
      ],
      "execution_count": 1,
      "outputs": []
    },
    {
      "cell_type": "code",
      "metadata": {
        "trusted": true,
        "colab": {
          "base_uri": "https://localhost:8080/"
        },
        "id": "CsNI5dCLm39A",
        "outputId": "2207e177-3c90-4379-e289-57ab89dca460"
      },
      "source": [
        "data = pd.DataFrame(data=pd.read_csv('/candidate_elim.dataset.csv'))  \n",
        "concepts = np.array(data.iloc[:,0:-1]) \n",
        "print('Concepts: \\n', concepts)  \n",
        "\n",
        "target = np.array(data.iloc[:,-1])   \n",
        "print('\\nTarget: \\n', target) \n",
        " \n",
        "def learn(concepts, target):  \n",
        "    print(\"\\nInitialization of specific_h and general_h: \")      \n",
        "    \n",
        "    specific_h = concepts[0].copy()      \n",
        "    print('\\t specific_h:', specific_h)\n",
        "\n",
        "    general_h = [[\"?\" for i in range(len(specific_h))] for i in range(len(specific_h))]      \n",
        "    print('\\t general_h:', general_h)\n",
        "\n",
        "    for i, h in enumerate(concepts):  \n",
        "        if target[i] == \"Yes\":  \n",
        "            for x in range(len(specific_h)):  \n",
        "                if h[x]!= specific_h[x]:                     \n",
        "                    specific_h[x] ='?'                      \n",
        "                    general_h[x][x] ='?'  \n",
        "        if target[i] == \"No\":             \n",
        "            for x in range(len(specific_h)):  \n",
        "                if h[x]!= specific_h[x]:                     \n",
        "                    general_h[x][x] = specific_h[x]                 \n",
        "                else:                     \n",
        "                    general_h[x][x] = '?'         \n",
        "        \n",
        "        print(\"\\n Step \",i+1)\n",
        "        print('\\t specific_h', specific_h)       \n",
        "        print('\\t general_h:', general_h)\n",
        "\n",
        "    indices = [i for i, val in enumerate(general_h) if val == ['?', '?', '?', '?', '?']]     \n",
        "    for i in indices:    \n",
        "        general_h.remove(['?', '?', '?', '?', '?'])  \n",
        "    return specific_h, general_h\n",
        "\n",
        "s_final, g_final = learn(concepts, target)\n",
        "\n",
        "print(\"\\n Final specific_h:\", s_final, sep=\"\\n\") \n",
        "print(\"\\n Final general_h:\", g_final, sep=\"\\n\")"
      ],
      "execution_count": 2,
      "outputs": [
        {
          "output_type": "stream",
          "text": [
            "Concepts: \n",
            " [['Sunny' 'Mild' 'High' 'Strong' 'Same']\n",
            " ['Rainy' 'Hot' 'High' 'Normal' 'Same']\n",
            " ['Sunny' 'Mild' 'Normal' 'Strong' 'Change']\n",
            " ['Sunny' 'Hot' 'High' 'Strong' 'Change']\n",
            " ['Sunny' 'Cool' 'Normal' 'Normal' 'Change']\n",
            " ['Overcast' 'Cool' 'Normal' 'Normal' 'Same']\n",
            " ['Rainy' 'Hot' 'Normal' 'Strong' 'Same']]\n",
            "\n",
            "Target: \n",
            " ['Yes' 'No' 'Yes' 'Yes' 'No' 'No' 'Yes']\n",
            "\n",
            "Initialization of specific_h and general_h: \n",
            "\t specific_h: ['Sunny' 'Mild' 'High' 'Strong' 'Same']\n",
            "\t general_h: [['?', '?', '?', '?', '?'], ['?', '?', '?', '?', '?'], ['?', '?', '?', '?', '?'], ['?', '?', '?', '?', '?'], ['?', '?', '?', '?', '?']]\n",
            "\n",
            " Step  1\n",
            "\t specific_h ['Sunny' 'Mild' 'High' 'Strong' 'Same']\n",
            "\t general_h: [['?', '?', '?', '?', '?'], ['?', '?', '?', '?', '?'], ['?', '?', '?', '?', '?'], ['?', '?', '?', '?', '?'], ['?', '?', '?', '?', '?']]\n",
            "\n",
            " Step  2\n",
            "\t specific_h ['Sunny' 'Mild' 'High' 'Strong' 'Same']\n",
            "\t general_h: [['Sunny', '?', '?', '?', '?'], ['?', 'Mild', '?', '?', '?'], ['?', '?', '?', '?', '?'], ['?', '?', '?', 'Strong', '?'], ['?', '?', '?', '?', '?']]\n",
            "\n",
            " Step  3\n",
            "\t specific_h ['Sunny' 'Mild' '?' 'Strong' '?']\n",
            "\t general_h: [['Sunny', '?', '?', '?', '?'], ['?', 'Mild', '?', '?', '?'], ['?', '?', '?', '?', '?'], ['?', '?', '?', 'Strong', '?'], ['?', '?', '?', '?', '?']]\n",
            "\n",
            " Step  4\n",
            "\t specific_h ['Sunny' '?' '?' 'Strong' '?']\n",
            "\t general_h: [['Sunny', '?', '?', '?', '?'], ['?', '?', '?', '?', '?'], ['?', '?', '?', '?', '?'], ['?', '?', '?', 'Strong', '?'], ['?', '?', '?', '?', '?']]\n",
            "\n",
            " Step  5\n",
            "\t specific_h ['Sunny' '?' '?' 'Strong' '?']\n",
            "\t general_h: [['?', '?', '?', '?', '?'], ['?', '?', '?', '?', '?'], ['?', '?', '?', '?', '?'], ['?', '?', '?', 'Strong', '?'], ['?', '?', '?', '?', '?']]\n",
            "\n",
            " Step  6\n",
            "\t specific_h ['Sunny' '?' '?' 'Strong' '?']\n",
            "\t general_h: [['Sunny', '?', '?', '?', '?'], ['?', '?', '?', '?', '?'], ['?', '?', '?', '?', '?'], ['?', '?', '?', 'Strong', '?'], ['?', '?', '?', '?', '?']]\n",
            "\n",
            " Step  7\n",
            "\t specific_h ['?' '?' '?' 'Strong' '?']\n",
            "\t general_h: [['?', '?', '?', '?', '?'], ['?', '?', '?', '?', '?'], ['?', '?', '?', '?', '?'], ['?', '?', '?', 'Strong', '?'], ['?', '?', '?', '?', '?']]\n",
            "\n",
            " Final specific_h:\n",
            "['?' '?' '?' 'Strong' '?']\n",
            "\n",
            " Final general_h:\n",
            "[['?', '?', '?', 'Strong', '?']]\n"
          ],
          "name": "stdout"
        }
      ]
    }
  ]
}